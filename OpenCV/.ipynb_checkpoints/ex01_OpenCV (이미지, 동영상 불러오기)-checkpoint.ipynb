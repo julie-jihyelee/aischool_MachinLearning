{
 "cells": [
  {
   "cell_type": "code",
   "execution_count": 1,
   "id": "61010ffe",
   "metadata": {
    "collapsed": true
   },
   "outputs": [
    {
     "name": "stdout",
     "output_type": "stream",
     "text": [
      "Collecting opencv-python\n",
      "  Downloading opencv_python-4.8.0.74-cp37-abi3-win_amd64.whl (38.1 MB)\n",
      "                                              0.0/38.1 MB ? eta -:--:--\n",
      "                                              0.6/38.1 MB 11.8 MB/s eta 0:00:04\n",
      "     -                                        1.3/38.1 MB 11.7 MB/s eta 0:00:04\n",
      "     -                                        1.9/38.1 MB 11.7 MB/s eta 0:00:04\n",
      "     --                                       2.4/38.1 MB 11.8 MB/s eta 0:00:04\n",
      "     ---                                      3.0/38.1 MB 11.8 MB/s eta 0:00:03\n",
      "     ---                                      3.5/38.1 MB 11.7 MB/s eta 0:00:03\n",
      "     ----                                     4.0/38.1 MB 11.7 MB/s eta 0:00:03\n",
      "     ----                                     4.6/38.1 MB 11.7 MB/s eta 0:00:03\n",
      "     -----                                    4.8/38.1 MB 11.8 MB/s eta 0:00:03\n",
      "     -----                                    5.6/38.1 MB 11.6 MB/s eta 0:00:03\n",
      "     ------                                   6.2/38.1 MB 11.6 MB/s eta 0:00:03\n",
      "     -------                                  6.7/38.1 MB 11.6 MB/s eta 0:00:03\n",
      "     -------                                  7.3/38.1 MB 11.6 MB/s eta 0:00:03\n",
      "     --------                                 7.8/38.1 MB 11.6 MB/s eta 0:00:03\n",
      "     --------                                 8.4/38.1 MB 11.6 MB/s eta 0:00:03\n",
      "     ---------                                8.9/38.1 MB 11.6 MB/s eta 0:00:03\n",
      "     ---------                                9.5/38.1 MB 11.6 MB/s eta 0:00:03\n",
      "     ----------                              10.0/38.1 MB 11.6 MB/s eta 0:00:03\n",
      "     ----------                              10.5/38.1 MB 11.7 MB/s eta 0:00:03\n",
      "     ----------                              10.5/38.1 MB 11.7 MB/s eta 0:00:03\n",
      "     ----------                              10.6/38.1 MB 10.6 MB/s eta 0:00:03\n",
      "     -----------                             11.1/38.1 MB 10.7 MB/s eta 0:00:03\n",
      "     -----------                             11.6/38.1 MB 10.6 MB/s eta 0:00:03\n",
      "     ------------                            12.1/38.1 MB 10.6 MB/s eta 0:00:03\n",
      "     ------------                            12.7/38.1 MB 10.6 MB/s eta 0:00:03\n",
      "     -------------                           13.2/38.1 MB 10.4 MB/s eta 0:00:03\n",
      "     --------------                          13.8/38.1 MB 10.4 MB/s eta 0:00:03\n",
      "     --------------                          14.0/38.1 MB 10.2 MB/s eta 0:00:03\n",
      "     ---------------                         14.8/38.1 MB 10.4 MB/s eta 0:00:03\n",
      "     ---------------                         15.1/38.1 MB 10.4 MB/s eta 0:00:03\n",
      "     ----------------                         15.4/38.1 MB 9.9 MB/s eta 0:00:03\n",
      "     ----------------                         15.6/38.1 MB 9.6 MB/s eta 0:00:03\n",
      "     ----------------                         15.8/38.1 MB 9.4 MB/s eta 0:00:03\n",
      "     ----------------                         15.9/38.1 MB 9.0 MB/s eta 0:00:03\n",
      "     ----------------                         16.0/38.1 MB 8.8 MB/s eta 0:00:03\n",
      "     ----------------                         16.0/38.1 MB 8.6 MB/s eta 0:00:03\n",
      "     -----------------                        16.2/38.1 MB 8.3 MB/s eta 0:00:03\n",
      "     -----------------                        16.3/38.1 MB 8.1 MB/s eta 0:00:03\n",
      "     -----------------                        16.5/38.1 MB 7.9 MB/s eta 0:00:03\n",
      "     -----------------                        16.7/38.1 MB 7.6 MB/s eta 0:00:03\n",
      "     -----------------                        16.9/38.1 MB 7.5 MB/s eta 0:00:03\n",
      "     -----------------                        16.9/38.1 MB 7.3 MB/s eta 0:00:03\n",
      "     -----------------                        17.0/38.1 MB 7.1 MB/s eta 0:00:03\n",
      "     -----------------                        17.1/38.1 MB 7.0 MB/s eta 0:00:04\n",
      "     ------------------                       17.2/38.1 MB 6.7 MB/s eta 0:00:04\n",
      "     ------------------                       17.2/38.1 MB 6.6 MB/s eta 0:00:04\n",
      "     ------------------                       17.4/38.1 MB 6.4 MB/s eta 0:00:04\n",
      "     ------------------                       17.5/38.1 MB 6.2 MB/s eta 0:00:04\n",
      "     ------------------                       17.6/38.1 MB 6.1 MB/s eta 0:00:04\n",
      "     ------------------                       17.7/38.1 MB 5.9 MB/s eta 0:00:04\n",
      "     ------------------                       17.8/38.1 MB 5.8 MB/s eta 0:00:04\n",
      "     ------------------                       17.9/38.1 MB 5.7 MB/s eta 0:00:04\n",
      "     ------------------                       18.0/38.1 MB 5.6 MB/s eta 0:00:04\n",
      "     -------------------                      18.2/38.1 MB 5.5 MB/s eta 0:00:04\n",
      "     -------------------                      18.3/38.1 MB 5.4 MB/s eta 0:00:04\n",
      "     -------------------                      18.6/38.1 MB 5.3 MB/s eta 0:00:04\n",
      "     -------------------                      18.7/38.1 MB 5.2 MB/s eta 0:00:04\n",
      "     -------------------                      18.8/38.1 MB 5.1 MB/s eta 0:00:04\n",
      "     -------------------                      19.0/38.1 MB 5.0 MB/s eta 0:00:04\n",
      "     --------------------                     19.3/38.1 MB 4.9 MB/s eta 0:00:04\n",
      "     --------------------                     19.4/38.1 MB 4.8 MB/s eta 0:00:04\n",
      "     --------------------                     19.6/38.1 MB 4.7 MB/s eta 0:00:04\n",
      "     --------------------                     20.0/38.1 MB 4.6 MB/s eta 0:00:04\n",
      "     ---------------------                    20.2/38.1 MB 4.6 MB/s eta 0:00:04\n",
      "     ---------------------                    20.4/38.1 MB 4.5 MB/s eta 0:00:04\n",
      "     ---------------------                    20.5/38.1 MB 4.4 MB/s eta 0:00:04\n",
      "     ---------------------                    20.8/38.1 MB 4.5 MB/s eta 0:00:04\n",
      "     ---------------------                    20.9/38.1 MB 4.5 MB/s eta 0:00:04\n",
      "     ----------------------                   21.1/38.1 MB 4.4 MB/s eta 0:00:04\n",
      "     ----------------------                   21.3/38.1 MB 4.4 MB/s eta 0:00:04\n",
      "     ----------------------                   21.5/38.1 MB 4.3 MB/s eta 0:00:04\n",
      "     ----------------------                   21.7/38.1 MB 4.3 MB/s eta 0:00:04\n",
      "     ----------------------                   21.9/38.1 MB 4.2 MB/s eta 0:00:04\n",
      "     -----------------------                  22.0/38.1 MB 4.2 MB/s eta 0:00:04\n",
      "     -----------------------                  22.2/38.1 MB 4.1 MB/s eta 0:00:04\n",
      "     -----------------------                  22.3/38.1 MB 4.1 MB/s eta 0:00:04\n",
      "     -----------------------                  22.5/38.1 MB 4.0 MB/s eta 0:00:04\n",
      "     -----------------------                  22.6/38.1 MB 3.9 MB/s eta 0:00:04\n",
      "     -----------------------                  22.7/38.1 MB 3.9 MB/s eta 0:00:04\n",
      "     ------------------------                 22.8/38.1 MB 3.8 MB/s eta 0:00:04\n",
      "     ------------------------                 22.9/38.1 MB 3.8 MB/s eta 0:00:04\n",
      "     ------------------------                 23.1/38.1 MB 3.7 MB/s eta 0:00:04\n",
      "     ------------------------                 23.2/38.1 MB 3.7 MB/s eta 0:00:05\n",
      "     ------------------------                 23.3/38.1 MB 3.6 MB/s eta 0:00:05\n",
      "     ------------------------                 23.5/38.1 MB 3.6 MB/s eta 0:00:05\n",
      "     ------------------------                 23.6/38.1 MB 3.5 MB/s eta 0:00:05\n",
      "     ------------------------                 23.8/38.1 MB 3.5 MB/s eta 0:00:05\n",
      "     -------------------------                23.9/38.1 MB 3.5 MB/s eta 0:00:05\n",
      "     -------------------------                24.0/38.1 MB 3.4 MB/s eta 0:00:05\n",
      "     -------------------------                24.1/38.1 MB 3.4 MB/s eta 0:00:05\n",
      "     -------------------------                24.2/38.1 MB 3.4 MB/s eta 0:00:05\n",
      "     -------------------------                24.3/38.1 MB 3.4 MB/s eta 0:00:05\n",
      "     -------------------------                24.5/38.1 MB 3.3 MB/s eta 0:00:05\n",
      "     -------------------------                24.6/38.1 MB 3.2 MB/s eta 0:00:05\n",
      "     -------------------------                24.7/38.1 MB 3.2 MB/s eta 0:00:05\n",
      "     --------------------------               24.8/38.1 MB 3.1 MB/s eta 0:00:05\n",
      "     --------------------------               25.0/38.1 MB 3.1 MB/s eta 0:00:05\n",
      "     --------------------------               25.1/38.1 MB 3.1 MB/s eta 0:00:05\n",
      "     --------------------------               25.2/38.1 MB 3.1 MB/s eta 0:00:05\n",
      "     --------------------------               25.3/38.1 MB 3.1 MB/s eta 0:00:05\n",
      "     --------------------------               25.4/38.1 MB 3.0 MB/s eta 0:00:05\n",
      "     --------------------------               25.5/38.1 MB 3.0 MB/s eta 0:00:05\n",
      "     --------------------------               25.7/38.1 MB 3.0 MB/s eta 0:00:05\n",
      "     ---------------------------              25.8/38.1 MB 3.0 MB/s eta 0:00:05\n",
      "     ---------------------------              25.9/38.1 MB 2.9 MB/s eta 0:00:05\n",
      "     ---------------------------              26.0/38.1 MB 2.9 MB/s eta 0:00:05\n",
      "     ---------------------------              26.1/38.1 MB 2.9 MB/s eta 0:00:05\n",
      "     ---------------------------              26.2/38.1 MB 2.9 MB/s eta 0:00:05\n",
      "     ---------------------------              26.4/38.1 MB 3.0 MB/s eta 0:00:04\n",
      "     ---------------------------              26.5/38.1 MB 3.0 MB/s eta 0:00:04\n",
      "     ---------------------------              26.6/38.1 MB 2.9 MB/s eta 0:00:04\n",
      "     ----------------------------             26.7/38.1 MB 2.9 MB/s eta 0:00:04\n",
      "     ----------------------------             26.9/38.1 MB 2.9 MB/s eta 0:00:04\n",
      "     ----------------------------             27.0/38.1 MB 2.9 MB/s eta 0:00:04\n",
      "     ----------------------------             27.1/38.1 MB 2.9 MB/s eta 0:00:04\n",
      "     ----------------------------             27.2/38.1 MB 2.9 MB/s eta 0:00:04\n",
      "     ----------------------------             27.4/38.1 MB 2.9 MB/s eta 0:00:04\n",
      "     ----------------------------             27.5/38.1 MB 2.9 MB/s eta 0:00:04\n",
      "     -----------------------------            27.6/38.1 MB 2.9 MB/s eta 0:00:04\n",
      "     -----------------------------            27.8/38.1 MB 3.0 MB/s eta 0:00:04\n",
      "     -----------------------------            28.0/38.1 MB 3.0 MB/s eta 0:00:04\n",
      "     -----------------------------            28.2/38.1 MB 3.0 MB/s eta 0:00:04\n",
      "     -----------------------------            28.4/38.1 MB 3.0 MB/s eta 0:00:04\n",
      "     ------------------------------           28.6/38.1 MB 3.0 MB/s eta 0:00:04\n",
      "     ------------------------------           28.8/38.1 MB 3.1 MB/s eta 0:00:04\n",
      "     ------------------------------           29.0/38.1 MB 3.1 MB/s eta 0:00:03\n",
      "     ------------------------------           29.3/38.1 MB 3.1 MB/s eta 0:00:03\n",
      "     -------------------------------          29.5/38.1 MB 3.1 MB/s eta 0:00:03\n",
      "     -------------------------------          29.7/38.1 MB 3.2 MB/s eta 0:00:03\n",
      "     -------------------------------          29.9/38.1 MB 3.1 MB/s eta 0:00:03\n",
      "     -------------------------------          30.1/38.1 MB 3.1 MB/s eta 0:00:03\n",
      "     -------------------------------          30.2/38.1 MB 3.1 MB/s eta 0:00:03\n",
      "     -------------------------------          30.4/38.1 MB 3.1 MB/s eta 0:00:03\n",
      "     --------------------------------         30.6/38.1 MB 3.1 MB/s eta 0:00:03\n",
      "     --------------------------------         30.8/38.1 MB 3.1 MB/s eta 0:00:03\n",
      "     --------------------------------         31.1/38.1 MB 3.2 MB/s eta 0:00:03\n",
      "     --------------------------------         31.3/38.1 MB 3.2 MB/s eta 0:00:03\n",
      "     ---------------------------------        31.8/38.1 MB 3.2 MB/s eta 0:00:02\n",
      "     ---------------------------------        32.2/38.1 MB 3.3 MB/s eta 0:00:02\n",
      "     ----------------------------------       32.6/38.1 MB 3.4 MB/s eta 0:00:02\n",
      "     ----------------------------------       33.0/38.1 MB 3.4 MB/s eta 0:00:02\n",
      "     ----------------------------------       33.1/38.1 MB 3.4 MB/s eta 0:00:02\n",
      "     -----------------------------------      33.4/38.1 MB 3.5 MB/s eta 0:00:02\n",
      "     -----------------------------------      33.7/38.1 MB 3.5 MB/s eta 0:00:02\n",
      "     -----------------------------------      33.9/38.1 MB 3.6 MB/s eta 0:00:02\n",
      "     -----------------------------------      34.1/38.1 MB 3.6 MB/s eta 0:00:02\n",
      "     ------------------------------------     34.3/38.1 MB 3.7 MB/s eta 0:00:02\n",
      "     ------------------------------------     34.6/38.1 MB 3.8 MB/s eta 0:00:01\n",
      "     ------------------------------------     34.9/38.1 MB 3.8 MB/s eta 0:00:01\n",
      "     ------------------------------------     35.0/38.1 MB 3.8 MB/s eta 0:00:01\n",
      "     -------------------------------------    35.3/38.1 MB 3.9 MB/s eta 0:00:01\n",
      "     -------------------------------------    35.4/38.1 MB 3.9 MB/s eta 0:00:01\n",
      "     -------------------------------------    35.7/38.1 MB 4.0 MB/s eta 0:00:01\n",
      "     -------------------------------------    35.9/38.1 MB 4.0 MB/s eta 0:00:01\n",
      "     -------------------------------------    35.9/38.1 MB 4.0 MB/s eta 0:00:01\n",
      "     -------------------------------------    36.1/38.1 MB 4.1 MB/s eta 0:00:01\n",
      "     --------------------------------------   36.2/38.1 MB 4.1 MB/s eta 0:00:01\n",
      "     --------------------------------------   36.3/38.1 MB 4.0 MB/s eta 0:00:01\n",
      "     --------------------------------------   36.5/38.1 MB 4.0 MB/s eta 0:00:01\n",
      "     --------------------------------------   36.6/38.1 MB 4.0 MB/s eta 0:00:01\n",
      "     --------------------------------------   36.7/38.1 MB 4.0 MB/s eta 0:00:01\n",
      "     --------------------------------------   36.8/38.1 MB 4.0 MB/s eta 0:00:01\n",
      "     --------------------------------------   36.9/38.1 MB 4.0 MB/s eta 0:00:01\n",
      "     --------------------------------------   37.0/38.1 MB 4.0 MB/s eta 0:00:01\n",
      "     --------------------------------------   37.1/38.1 MB 4.0 MB/s eta 0:00:01\n",
      "     ---------------------------------------  37.2/38.1 MB 4.0 MB/s eta 0:00:01\n",
      "     ---------------------------------------  37.3/38.1 MB 4.0 MB/s eta 0:00:01\n",
      "     ---------------------------------------  37.5/38.1 MB 4.0 MB/s eta 0:00:01\n",
      "     ---------------------------------------  37.6/38.1 MB 4.0 MB/s eta 0:00:01\n",
      "     ---------------------------------------  37.8/38.1 MB 4.0 MB/s eta 0:00:01\n",
      "     ---------------------------------------  37.9/38.1 MB 4.1 MB/s eta 0:00:01\n",
      "     ---------------------------------------  38.1/38.1 MB 4.1 MB/s eta 0:00:01\n",
      "     ---------------------------------------  38.1/38.1 MB 4.1 MB/s eta 0:00:01\n",
      "     ---------------------------------------- 38.1/38.1 MB 3.9 MB/s eta 0:00:00\n",
      "Requirement already satisfied: numpy>=1.17.0 in c:\\users\\gjaischool1\\anaconda3\\envs\\machine\\lib\\site-packages (from opencv-python) (1.24.4)\n",
      "Installing collected packages: opencv-python\n",
      "Successfully installed opencv-python-4.8.0.74\n"
     ]
    }
   ],
   "source": [
    "!pip install opencv-python"
   ]
  },
  {
   "cell_type": "code",
   "execution_count": null,
   "id": "16cd75b8",
   "metadata": {},
   "outputs": [],
   "source": [
    "# 크기 : 800 * 1000이하\n",
    "# 얼굴이 있는 사진"
   ]
  },
  {
   "cell_type": "code",
   "execution_count": 15,
   "id": "997e9c65",
   "metadata": {},
   "outputs": [],
   "source": [
    "# cv2 불러오기\n",
    "import cv2\n",
    "\n",
    "# 이미지 불러오기\n",
    "# cv2.imread('경로') \n",
    "cv2.imread('경로') \n",
    "img = cv2.imread('./data/image.jpg')\n",
    "\n",
    "# 윈도우에 이미지 띄우기 \n",
    "# cv2.imshow('윈도의 창의 이름', img-실제로 들어가는 이미지)\n",
    "cv2.imshow('img', img)\n",
    "\n",
    "# 키보드로부터 키 입력을 기다리는 시간\n",
    "# 0이면 계속 대기 상태 (코드가 cv2.waitKey(0)에 머무른 상태로 넘어가지 않는다) \n",
    "# 1000ms = 1초 : 1초동안 기다렸다가 키 입력 안 되면 넘어가!\n",
    "# 키를 입력하면 바로 넘어감\n",
    "cv2.waitKey(0)\n",
    "\n",
    "#opencv로 열어놓은 윈도우창 닫기\n",
    "cv2.destroyAllWindows()"
   ]
  },
  {
   "cell_type": "code",
   "execution_count": 19,
   "id": "c3681135",
   "metadata": {},
   "outputs": [],
   "source": [
    "#이미지를 흑백사진으로 불러오기\n",
    "img = cv2.imread('./data/image.jpg', cv2.IMREAD_GRAYSCALE)\n",
    "cv2.imshow('img', img)\n",
    "cv2.waitKey(0)\n",
    "cv2.destroyAllWindows()"
   ]
  },
  {
   "cell_type": "code",
   "execution_count": 22,
   "id": "7ef02aad",
   "metadata": {},
   "outputs": [],
   "source": [
    "#불러온 이미지를 흑백사진으로 만들기\n",
    "img = cv2.imread('./data/image.jpg')\n",
    "gray_img = cv2.cvtColor(img, cv2.COLOR_BGR2GRAY)\n",
    "cv2.imshow('img', img)\n",
    "cv2.imshow('gray_img', gray_img)\n",
    "cv2.waitKey(0)\n",
    "cv2.destroyAllWindows()"
   ]
  },
  {
   "cell_type": "code",
   "execution_count": null,
   "id": "9a9c43e3",
   "metadata": {},
   "outputs": [],
   "source": [
    "#RGB : 빛의 3원색\n",
    "#Red, Green, Blue : 모일수록 하얗게 됨\n",
    "# 이미지를 불러올 때는 파란 계열, 초록 계열, 빨간 계열 3가지를 따로 불러옴"
   ]
  },
  {
   "cell_type": "code",
   "execution_count": 23,
   "id": "12910b70",
   "metadata": {},
   "outputs": [
    {
     "data": {
      "text/plain": [
       "(586, 430, 3)"
      ]
     },
     "execution_count": 23,
     "metadata": {},
     "output_type": "execute_result"
    }
   ],
   "source": [
    "img.shape"
   ]
  },
  {
   "cell_type": "code",
   "execution_count": null,
   "id": "207edc35",
   "metadata": {},
   "outputs": [],
   "source": [
    "# 동영상 : 초당 많은 사진을 연속적으로 보기\n",
    "# 보통 : 초당 30장의 사진으로 이루어져있음\n",
    "# 일반인 : 초당 12~15장이면 동영상으로 인식\n",
    "# 전문가 : 초 당 15~20장이면 동영상으로 인식"
   ]
  },
  {
   "cell_type": "code",
   "execution_count": null,
   "id": "979ffb7e",
   "metadata": {},
   "outputs": [],
   "source": [
    "# 웹캠으로부터 동영상을 가져오기\n",
    "import cv2\n",
    "\n",
    "# 0 : 컴퓨터에 연결된 카메라\n",
    "# 가지고 있는 동영상 실행시키도 싶으면, 동영상의 경로를 적어주세요!\n",
    "cap = cv2.VideoCapture(0)\n",
    "cnt = 0\n",
    "\n",
    "# 녹화 설정\n",
    "fps = 30.0 # 녹화할 프레임 수 \n",
    "width = int(cap.get(3)) # 녹화할 영상의 가로 크기(px)\n",
    "height = int(cap.get(4)) # 녹화할 영상의 세로 크기(px)\n",
    "\n",
    "# 코덱 설정\n",
    "# avi > DIVX\n",
    "# mp4 > MPEG\n",
    "fcc = cv2.VideoWriter_fourcc(*'MPEG')\n",
    "\n",
    "# 동영상 설정\n",
    "out = cv2.VideoWriter('./data/Video.mp4', fcc, fps, (width,height))\n",
    "\n",
    "while True: \n",
    "    #연결해놓은 카메라에서 사진 가져오기 \n",
    "    ret, frame = cap.read() # 한 번 실행할 때마다 한 장씩의 사진을 가져옴\n",
    "    # ret = 불러오기 성공 - True, 실패하면 - False\n",
    "\t# frame = 불러온 사진 이미지 값\n",
    "    \n",
    "    # 이미지 못 불러오면 창 닫기\n",
    "    if not ret:\n",
    "        print(\"비디오 읽기 실패 또는 비디오 모두 읽음\")\n",
    "        cap.release()  # 연결해놓은 카메라/동영상 닫기\n",
    "        cv2.destroyAllWindows() #윈도우에 열어놓은 창 닫기\n",
    "        break # 더이상 사진을 불러오지 않아도 되므로 while문 종료\n",
    "        \n",
    "    # 이미지를 불러왔을 때\n",
    "    cv2.imshow('video', frame)\n",
    "    k = cv2.waitKey(33) # 33ms마다 사진 넘기기 = 1초에 약 30장의 사진을 보여주고 있다.\n",
    "    \n",
    "    # 종료버튼 만들기\n",
    "    # 1(!)누르면 종료하기\n",
    "    if k == 49 : #1은 아스키코드로 49의 숫자를 가지고 있음\n",
    "        print('동영상을 종료합니다')\n",
    "        cap.release() #카메라 닫기\n",
    "        cv2.destroyAllWindows() #윈도우 창 닫기 \n",
    "        break # while문 종료 \n",
    "    # 캡쳐(2)\n",
    "    if k == 50 :\n",
    "        cnt += 1\n",
    "        cv2.imwrite(f'./data/cap{cnt}.png', frame,params = [cv2.IMWRITE_PNG_COMPRESSION, 0])\n",
    "        \n",
    "    # 녹화시작 (3)\n",
    "    if k == 51 :\n",
    "        out.write(frame)\n",
    "        print('녹화시작')\n",
    "    \n",
    "    #녹화종료 (4)\n",
    "    \n",
    "    if k == 52:\n",
    "        out.release()\n",
    "        print('녹화종료')"
   ]
  },
  {
   "cell_type": "code",
   "execution_count": null,
   "id": "81ed9a5b",
   "metadata": {},
   "outputs": [],
   "source": []
  },
  {
   "cell_type": "code",
   "execution_count": null,
   "id": "5267968a",
   "metadata": {},
   "outputs": [],
   "source": []
  },
  {
   "cell_type": "code",
   "execution_count": null,
   "id": "38e27c38",
   "metadata": {},
   "outputs": [],
   "source": []
  },
  {
   "cell_type": "code",
   "execution_count": null,
   "id": "237e7778",
   "metadata": {},
   "outputs": [],
   "source": []
  },
  {
   "cell_type": "code",
   "execution_count": null,
   "id": "6a9577ec",
   "metadata": {},
   "outputs": [],
   "source": []
  },
  {
   "cell_type": "code",
   "execution_count": null,
   "id": "e4d37c58",
   "metadata": {},
   "outputs": [],
   "source": []
  },
  {
   "cell_type": "code",
   "execution_count": null,
   "id": "a48c8263",
   "metadata": {},
   "outputs": [],
   "source": []
  },
  {
   "cell_type": "code",
   "execution_count": null,
   "id": "6883b7b7",
   "metadata": {},
   "outputs": [],
   "source": []
  },
  {
   "cell_type": "code",
   "execution_count": null,
   "id": "5a7e1f36",
   "metadata": {},
   "outputs": [],
   "source": []
  },
  {
   "cell_type": "code",
   "execution_count": null,
   "id": "011c07dc",
   "metadata": {},
   "outputs": [],
   "source": []
  },
  {
   "cell_type": "code",
   "execution_count": null,
   "id": "a2a7c932",
   "metadata": {},
   "outputs": [],
   "source": []
  },
  {
   "cell_type": "code",
   "execution_count": null,
   "id": "1e7b9ba3",
   "metadata": {},
   "outputs": [],
   "source": []
  },
  {
   "cell_type": "code",
   "execution_count": null,
   "id": "982d6f04",
   "metadata": {},
   "outputs": [],
   "source": []
  },
  {
   "cell_type": "code",
   "execution_count": null,
   "id": "93186356",
   "metadata": {},
   "outputs": [],
   "source": []
  },
  {
   "cell_type": "code",
   "execution_count": null,
   "id": "ad8ba8f2",
   "metadata": {},
   "outputs": [],
   "source": []
  },
  {
   "cell_type": "code",
   "execution_count": null,
   "id": "9eff325b",
   "metadata": {},
   "outputs": [],
   "source": []
  },
  {
   "cell_type": "code",
   "execution_count": null,
   "id": "bca3b26e",
   "metadata": {},
   "outputs": [],
   "source": []
  },
  {
   "cell_type": "code",
   "execution_count": null,
   "id": "70d0b0d9",
   "metadata": {},
   "outputs": [],
   "source": []
  },
  {
   "cell_type": "code",
   "execution_count": null,
   "id": "f329636b",
   "metadata": {},
   "outputs": [],
   "source": []
  },
  {
   "cell_type": "code",
   "execution_count": null,
   "id": "825356a3",
   "metadata": {},
   "outputs": [],
   "source": []
  },
  {
   "cell_type": "code",
   "execution_count": null,
   "id": "e174c9b8",
   "metadata": {},
   "outputs": [],
   "source": []
  },
  {
   "cell_type": "code",
   "execution_count": null,
   "id": "e29365a2",
   "metadata": {},
   "outputs": [],
   "source": []
  },
  {
   "cell_type": "code",
   "execution_count": null,
   "id": "6a888fff",
   "metadata": {},
   "outputs": [],
   "source": []
  },
  {
   "cell_type": "code",
   "execution_count": null,
   "id": "ca6335c5",
   "metadata": {},
   "outputs": [],
   "source": []
  },
  {
   "cell_type": "code",
   "execution_count": null,
   "id": "b7ecac12",
   "metadata": {},
   "outputs": [],
   "source": []
  },
  {
   "cell_type": "code",
   "execution_count": null,
   "id": "3cd7eeaa",
   "metadata": {},
   "outputs": [],
   "source": []
  },
  {
   "cell_type": "code",
   "execution_count": null,
   "id": "da7bc1a8",
   "metadata": {},
   "outputs": [],
   "source": []
  },
  {
   "cell_type": "code",
   "execution_count": null,
   "id": "6f64c0d6",
   "metadata": {},
   "outputs": [],
   "source": []
  },
  {
   "cell_type": "code",
   "execution_count": null,
   "id": "e3e1ebe4",
   "metadata": {},
   "outputs": [],
   "source": []
  },
  {
   "cell_type": "code",
   "execution_count": null,
   "id": "24bc77ce",
   "metadata": {},
   "outputs": [],
   "source": []
  },
  {
   "cell_type": "code",
   "execution_count": null,
   "id": "b0635f4d",
   "metadata": {},
   "outputs": [],
   "source": []
  },
  {
   "cell_type": "code",
   "execution_count": null,
   "id": "a8d1ad5e",
   "metadata": {},
   "outputs": [],
   "source": []
  },
  {
   "cell_type": "code",
   "execution_count": null,
   "id": "f9ea3e22",
   "metadata": {},
   "outputs": [],
   "source": []
  },
  {
   "cell_type": "code",
   "execution_count": null,
   "id": "81136ded",
   "metadata": {},
   "outputs": [],
   "source": []
  },
  {
   "cell_type": "code",
   "execution_count": null,
   "id": "de924fd6",
   "metadata": {},
   "outputs": [],
   "source": []
  },
  {
   "cell_type": "code",
   "execution_count": null,
   "id": "15d99136",
   "metadata": {},
   "outputs": [],
   "source": []
  },
  {
   "cell_type": "code",
   "execution_count": null,
   "id": "e42f77f8",
   "metadata": {},
   "outputs": [],
   "source": []
  },
  {
   "cell_type": "code",
   "execution_count": null,
   "id": "97c6f4dd",
   "metadata": {},
   "outputs": [],
   "source": []
  },
  {
   "cell_type": "code",
   "execution_count": null,
   "id": "41b6bccd",
   "metadata": {},
   "outputs": [],
   "source": []
  },
  {
   "cell_type": "code",
   "execution_count": null,
   "id": "e4f39c5a",
   "metadata": {},
   "outputs": [],
   "source": []
  },
  {
   "cell_type": "code",
   "execution_count": null,
   "id": "eb338d88",
   "metadata": {},
   "outputs": [],
   "source": []
  },
  {
   "cell_type": "code",
   "execution_count": null,
   "id": "7af23eb3",
   "metadata": {},
   "outputs": [],
   "source": []
  },
  {
   "cell_type": "code",
   "execution_count": null,
   "id": "27f188af",
   "metadata": {},
   "outputs": [],
   "source": []
  },
  {
   "cell_type": "code",
   "execution_count": null,
   "id": "6c259b32",
   "metadata": {},
   "outputs": [],
   "source": []
  },
  {
   "cell_type": "code",
   "execution_count": null,
   "id": "e903c98a",
   "metadata": {},
   "outputs": [],
   "source": []
  },
  {
   "cell_type": "code",
   "execution_count": null,
   "id": "fe4b33bf",
   "metadata": {},
   "outputs": [],
   "source": []
  },
  {
   "cell_type": "code",
   "execution_count": null,
   "id": "987450ca",
   "metadata": {},
   "outputs": [],
   "source": []
  },
  {
   "cell_type": "code",
   "execution_count": null,
   "id": "b2e22952",
   "metadata": {},
   "outputs": [],
   "source": []
  },
  {
   "cell_type": "code",
   "execution_count": null,
   "id": "e1a5b4e2",
   "metadata": {},
   "outputs": [],
   "source": []
  },
  {
   "cell_type": "code",
   "execution_count": null,
   "id": "53f909ff",
   "metadata": {},
   "outputs": [],
   "source": []
  },
  {
   "cell_type": "code",
   "execution_count": null,
   "id": "9fb170dc",
   "metadata": {},
   "outputs": [],
   "source": []
  },
  {
   "cell_type": "code",
   "execution_count": null,
   "id": "111d70d0",
   "metadata": {},
   "outputs": [],
   "source": []
  }
 ],
 "metadata": {
  "kernelspec": {
   "display_name": "Python 3 (ipykernel)",
   "language": "python",
   "name": "python3"
  },
  "language_info": {
   "codemirror_mode": {
    "name": "ipython",
    "version": 3
   },
   "file_extension": ".py",
   "mimetype": "text/x-python",
   "name": "python",
   "nbconvert_exporter": "python",
   "pygments_lexer": "ipython3",
   "version": "3.8.0"
  }
 },
 "nbformat": 4,
 "nbformat_minor": 5
}
